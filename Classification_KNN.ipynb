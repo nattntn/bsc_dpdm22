{
  "nbformat": 4,
  "nbformat_minor": 0,
  "metadata": {
    "colab": {
      "provenance": [],
      "authorship_tag": "ABX9TyPjF1BlLfXYwddQsTVjXldF",
      "include_colab_link": true
    },
    "kernelspec": {
      "name": "python3",
      "display_name": "Python 3"
    },
    "language_info": {
      "name": "python"
    }
  },
  "cells": [
    {
      "cell_type": "markdown",
      "metadata": {
        "id": "view-in-github",
        "colab_type": "text"
      },
      "source": [
        "<a href=\"https://colab.research.google.com/github/natthanich/bsc_dpdm22/blob/main/Classification_KNN.ipynb\" target=\"_parent\"><img src=\"https://colab.research.google.com/assets/colab-badge.svg\" alt=\"Open In Colab\"/></a>"
      ]
    },
    {
      "cell_type": "code",
      "execution_count": 1,
      "metadata": {
        "id": "VVnR1RplVCpu"
      },
      "outputs": [],
      "source": [
        "from sklearn.datasets import load_digits\n",
        "digits = load_digits()\n",
        "\n",
        "import matplotlib.pyplot as plt"
      ]
    },
    {
      "cell_type": "code",
      "source": [
        "digits"
      ],
      "metadata": {
        "colab": {
          "base_uri": "https://localhost:8080/"
        },
        "id": "CD4DuaeUWCZo",
        "outputId": "c04ac3cb-7f59-44a0-9dfe-df9d02ef180a"
      },
      "execution_count": 2,
      "outputs": [
        {
          "output_type": "execute_result",
          "data": {
            "text/plain": [
              "{'data': array([[ 0.,  0.,  5., ...,  0.,  0.,  0.],\n",
              "        [ 0.,  0.,  0., ..., 10.,  0.,  0.],\n",
              "        [ 0.,  0.,  0., ..., 16.,  9.,  0.],\n",
              "        ...,\n",
              "        [ 0.,  0.,  1., ...,  6.,  0.,  0.],\n",
              "        [ 0.,  0.,  2., ..., 12.,  0.,  0.],\n",
              "        [ 0.,  0., 10., ..., 12.,  1.,  0.]]),\n",
              " 'target': array([0, 1, 2, ..., 8, 9, 8]),\n",
              " 'frame': None,\n",
              " 'feature_names': ['pixel_0_0',\n",
              "  'pixel_0_1',\n",
              "  'pixel_0_2',\n",
              "  'pixel_0_3',\n",
              "  'pixel_0_4',\n",
              "  'pixel_0_5',\n",
              "  'pixel_0_6',\n",
              "  'pixel_0_7',\n",
              "  'pixel_1_0',\n",
              "  'pixel_1_1',\n",
              "  'pixel_1_2',\n",
              "  'pixel_1_3',\n",
              "  'pixel_1_4',\n",
              "  'pixel_1_5',\n",
              "  'pixel_1_6',\n",
              "  'pixel_1_7',\n",
              "  'pixel_2_0',\n",
              "  'pixel_2_1',\n",
              "  'pixel_2_2',\n",
              "  'pixel_2_3',\n",
              "  'pixel_2_4',\n",
              "  'pixel_2_5',\n",
              "  'pixel_2_6',\n",
              "  'pixel_2_7',\n",
              "  'pixel_3_0',\n",
              "  'pixel_3_1',\n",
              "  'pixel_3_2',\n",
              "  'pixel_3_3',\n",
              "  'pixel_3_4',\n",
              "  'pixel_3_5',\n",
              "  'pixel_3_6',\n",
              "  'pixel_3_7',\n",
              "  'pixel_4_0',\n",
              "  'pixel_4_1',\n",
              "  'pixel_4_2',\n",
              "  'pixel_4_3',\n",
              "  'pixel_4_4',\n",
              "  'pixel_4_5',\n",
              "  'pixel_4_6',\n",
              "  'pixel_4_7',\n",
              "  'pixel_5_0',\n",
              "  'pixel_5_1',\n",
              "  'pixel_5_2',\n",
              "  'pixel_5_3',\n",
              "  'pixel_5_4',\n",
              "  'pixel_5_5',\n",
              "  'pixel_5_6',\n",
              "  'pixel_5_7',\n",
              "  'pixel_6_0',\n",
              "  'pixel_6_1',\n",
              "  'pixel_6_2',\n",
              "  'pixel_6_3',\n",
              "  'pixel_6_4',\n",
              "  'pixel_6_5',\n",
              "  'pixel_6_6',\n",
              "  'pixel_6_7',\n",
              "  'pixel_7_0',\n",
              "  'pixel_7_1',\n",
              "  'pixel_7_2',\n",
              "  'pixel_7_3',\n",
              "  'pixel_7_4',\n",
              "  'pixel_7_5',\n",
              "  'pixel_7_6',\n",
              "  'pixel_7_7'],\n",
              " 'target_names': array([0, 1, 2, 3, 4, 5, 6, 7, 8, 9]),\n",
              " 'images': array([[[ 0.,  0.,  5., ...,  1.,  0.,  0.],\n",
              "         [ 0.,  0., 13., ..., 15.,  5.,  0.],\n",
              "         [ 0.,  3., 15., ..., 11.,  8.,  0.],\n",
              "         ...,\n",
              "         [ 0.,  4., 11., ..., 12.,  7.,  0.],\n",
              "         [ 0.,  2., 14., ..., 12.,  0.,  0.],\n",
              "         [ 0.,  0.,  6., ...,  0.,  0.,  0.]],\n",
              " \n",
              "        [[ 0.,  0.,  0., ...,  5.,  0.,  0.],\n",
              "         [ 0.,  0.,  0., ...,  9.,  0.,  0.],\n",
              "         [ 0.,  0.,  3., ...,  6.,  0.,  0.],\n",
              "         ...,\n",
              "         [ 0.,  0.,  1., ...,  6.,  0.,  0.],\n",
              "         [ 0.,  0.,  1., ...,  6.,  0.,  0.],\n",
              "         [ 0.,  0.,  0., ..., 10.,  0.,  0.]],\n",
              " \n",
              "        [[ 0.,  0.,  0., ..., 12.,  0.,  0.],\n",
              "         [ 0.,  0.,  3., ..., 14.,  0.,  0.],\n",
              "         [ 0.,  0.,  8., ..., 16.,  0.,  0.],\n",
              "         ...,\n",
              "         [ 0.,  9., 16., ...,  0.,  0.,  0.],\n",
              "         [ 0.,  3., 13., ..., 11.,  5.,  0.],\n",
              "         [ 0.,  0.,  0., ..., 16.,  9.,  0.]],\n",
              " \n",
              "        ...,\n",
              " \n",
              "        [[ 0.,  0.,  1., ...,  1.,  0.,  0.],\n",
              "         [ 0.,  0., 13., ...,  2.,  1.,  0.],\n",
              "         [ 0.,  0., 16., ..., 16.,  5.,  0.],\n",
              "         ...,\n",
              "         [ 0.,  0., 16., ..., 15.,  0.,  0.],\n",
              "         [ 0.,  0., 15., ..., 16.,  0.,  0.],\n",
              "         [ 0.,  0.,  2., ...,  6.,  0.,  0.]],\n",
              " \n",
              "        [[ 0.,  0.,  2., ...,  0.,  0.,  0.],\n",
              "         [ 0.,  0., 14., ..., 15.,  1.,  0.],\n",
              "         [ 0.,  4., 16., ..., 16.,  7.,  0.],\n",
              "         ...,\n",
              "         [ 0.,  0.,  0., ..., 16.,  2.,  0.],\n",
              "         [ 0.,  0.,  4., ..., 16.,  2.,  0.],\n",
              "         [ 0.,  0.,  5., ..., 12.,  0.,  0.]],\n",
              " \n",
              "        [[ 0.,  0., 10., ...,  1.,  0.,  0.],\n",
              "         [ 0.,  2., 16., ...,  1.,  0.,  0.],\n",
              "         [ 0.,  0., 15., ..., 15.,  0.,  0.],\n",
              "         ...,\n",
              "         [ 0.,  4., 16., ..., 16.,  6.,  0.],\n",
              "         [ 0.,  8., 16., ..., 16.,  8.,  0.],\n",
              "         [ 0.,  1.,  8., ..., 12.,  1.,  0.]]]),\n",
              " 'DESCR': \".. _digits_dataset:\\n\\nOptical recognition of handwritten digits dataset\\n--------------------------------------------------\\n\\n**Data Set Characteristics:**\\n\\n    :Number of Instances: 1797\\n    :Number of Attributes: 64\\n    :Attribute Information: 8x8 image of integer pixels in the range 0..16.\\n    :Missing Attribute Values: None\\n    :Creator: E. Alpaydin (alpaydin '@' boun.edu.tr)\\n    :Date: July; 1998\\n\\nThis is a copy of the test set of the UCI ML hand-written digits datasets\\nhttps://archive.ics.uci.edu/ml/datasets/Optical+Recognition+of+Handwritten+Digits\\n\\nThe data set contains images of hand-written digits: 10 classes where\\neach class refers to a digit.\\n\\nPreprocessing programs made available by NIST were used to extract\\nnormalized bitmaps of handwritten digits from a preprinted form. From a\\ntotal of 43 people, 30 contributed to the training set and different 13\\nto the test set. 32x32 bitmaps are divided into nonoverlapping blocks of\\n4x4 and the number of on pixels are counted in each block. This generates\\nan input matrix of 8x8 where each element is an integer in the range\\n0..16. This reduces dimensionality and gives invariance to small\\ndistortions.\\n\\nFor info on NIST preprocessing routines, see M. D. Garris, J. L. Blue, G.\\nT. Candela, D. L. Dimmick, J. Geist, P. J. Grother, S. A. Janet, and C.\\nL. Wilson, NIST Form-Based Handprint Recognition System, NISTIR 5469,\\n1994.\\n\\n.. topic:: References\\n\\n  - C. Kaynak (1995) Methods of Combining Multiple Classifiers and Their\\n    Applications to Handwritten Digit Recognition, MSc Thesis, Institute of\\n    Graduate Studies in Science and Engineering, Bogazici University.\\n  - E. Alpaydin, C. Kaynak (1998) Cascading Classifiers, Kybernetika.\\n  - Ken Tang and Ponnuthurai N. Suganthan and Xi Yao and A. Kai Qin.\\n    Linear dimensionalityreduction using relevance weighted LDA. School of\\n    Electrical and Electronic Engineering Nanyang Technological University.\\n    2005.\\n  - Claudio Gentile. A New Approximate Maximal Margin Classification\\n    Algorithm. NIPS. 2000.\\n\"}"
            ]
          },
          "metadata": {},
          "execution_count": 2
        }
      ]
    },
    {
      "cell_type": "code",
      "source": [
        "ind =  28\n",
        "plt.gray()\n",
        "plt.matshow(digits.images[ind])\n",
        "print(digits.target[ind])   #บอกความเข้มขอสี"
      ],
      "metadata": {
        "colab": {
          "base_uri": "https://localhost:8080/",
          "height": 310
        },
        "id": "msTS-_4hWYkx",
        "outputId": "645c6095-d313-460d-9f46-5a0e99be450e"
      },
      "execution_count": 3,
      "outputs": [
        {
          "output_type": "stream",
          "name": "stdout",
          "text": [
            "8\n"
          ]
        },
        {
          "output_type": "display_data",
          "data": {
            "text/plain": [
              "<Figure size 432x288 with 0 Axes>"
            ]
          },
          "metadata": {}
        },
        {
          "output_type": "display_data",
          "data": {
            "text/plain": [
              "<Figure size 288x288 with 1 Axes>"
            ],
            "image/png": "[encoded data removed]"
          },
          "metadata": {
            "needs_background": "light"
          }
        }
      ]
    },
    {
      "cell_type": "markdown",
      "source": [
        "# Quiz 3 march\n",
        "- แบ่ง data ออกเป็น 80(80) 20(test)  โดยใช้ random_state = 9\n",
        "- หา parameter ที่ดีที่สุด  (K (1,3,5)) Distance_weighted (yes/no) ด้วย 10-fold-cross-validation\n",
        "- test parameters ที่ดีที่สุด test data"
      ],
      "metadata": {
        "id": "4lW1GCPuXMV_"
      }
    },
    {
      "cell_type": "code",
      "source": [
        "from sklearn.model_selection import train_test_split, cross_val_score"
      ],
      "metadata": {
        "id": "l205wnD4f3Oe"
      },
      "execution_count": 4,
      "outputs": []
    },
    {
      "cell_type": "code",
      "source": [
        "X_train, X_test, y_train, y_test = train_test_split(digits.data, digits.target, test_size=0.2, random_state=1)"
      ],
      "metadata": {
        "id": "C3QQ1vSHgA7i"
      },
      "execution_count": 5,
      "outputs": []
    },
    {
      "cell_type": "code",
      "source": [
        "from sklearn.neighbors import KNeighborsClassifier"
      ],
      "metadata": {
        "id": "zsw0Q65dg00A"
      },
      "execution_count": 6,
      "outputs": []
    },
    {
      "cell_type": "markdown",
      "source": [
        "## model selection "
      ],
      "metadata": {
        "id": "BZe1X5g2gTuh"
      }
    },
    {
      "cell_type": "code",
      "source": [
        "# model 1  (K = 1, weighted)\n",
        "knn_distance = KNeighborsClassifier(n_neighbors=1, weights='distance')\n",
        "scores = cross_val_score(knn_distance, X_train, y_train, cv=10)\n",
        "print('Mean cross-validation score: K1weighted', scores.mean())\n",
        "\n",
        "# model 3  (K = 3, weighted)\n",
        "knn_distance = KNeighborsClassifier(n_neighbors=3, weights='distance')\n",
        "scores = cross_val_score(knn_distance, X_train, y_train, cv=10)\n",
        "print('Mean cross-validation score: K3weighted', scores.mean())\n",
        "\n",
        "# model 3  (K = 3, weighted)\n",
        "knn_distance = KNeighborsClassifier(n_neighbors=5, weights='distance')\n",
        "scores = cross_val_score(knn_distance, X_train, y_train, cv=10)\n",
        "print('Mean cross-validation score: K3weighted', scores.mean())\n",
        "\n",
        "# model 4  (K = 1, No weighted)\n",
        "knn_distance = KNeighborsClassifier(n_neighbors=1, weights='uniform')\n",
        "scores = cross_val_score(knn_distance, X_train, y_train, cv=10)\n",
        "print('Mean cross-validation score: K1NOweighted', scores.mean())\n",
        "\n",
        "# model 5  (K = 3, No weighted)\n",
        "knn_distance = KNeighborsClassifier(n_neighbors=3, weights='uniform')\n",
        "scores = cross_val_score(knn_distance, X_train, y_train, cv=10)\n",
        "print('Mean cross-validation score: K3NOweighted', scores.mean())\n",
        "\n",
        "# model 6  (K = 5, No weighted)\n",
        "knn_distance = KNeighborsClassifier(n_neighbors=5, weights='uniform')\n",
        "scores = cross_val_score(knn_distance, X_train, y_train, cv=10)\n",
        "print('Mean cross-validation score: K5NOweighted', scores.mean())"
      ],
      "metadata": {
        "colab": {
          "base_uri": "https://localhost:8080/"
        },
        "id": "GJTOFY3uarIh",
        "outputId": "434d4000-b7eb-4f3e-d799-c948620a489f"
      },
      "execution_count": 7,
      "outputs": [
        {
          "output_type": "stream",
          "name": "stdout",
          "text": [
            "Mean cross-validation score: K1weighted 0.9853972416472419\n",
            "Mean cross-validation score: K3weighted 0.9840132090132091\n",
            "Mean cross-validation score: K3weighted 0.9840132090132091\n",
            "Mean cross-validation score: K1NOweighted 0.9853972416472419\n",
            "Mean cross-validation score: K3NOweighted 0.9833187645687647\n",
            "Mean cross-validation score: K5NOweighted 0.9833139083139084\n"
          ]
        }
      ]
    },
    {
      "cell_type": "markdown",
      "source": [
        "# Evaluate with test set "
      ],
      "metadata": {
        "id": "7tY5fS_9jtOp"
      }
    },
    {
      "cell_type": "code",
      "source": [
        "knn_distance = KNeighborsClassifier(n_neighbors=1, weights='distance')\n",
        "\n",
        "knn_distance.fit(X_train,y_train)\n",
        "\n",
        "y_pred = knn_distance.predict(X_test)"
      ],
      "metadata": {
        "id": "7Xteyt_xj3_r"
      },
      "execution_count": 8,
      "outputs": []
    },
    {
      "cell_type": "code",
      "source": [
        "from sklearn.metrics import accuracy_score\n",
        "# Assume y_true and y_pred are the true and predicted labels, respectively\n",
        "accuracy = accuracy_score(y_test, y_pred)\n",
        "# Print the accuracy score\n",
        "print(\"Accuracy score: \", accuracy)"
      ],
      "metadata": {
        "colab": {
          "base_uri": "https://localhost:8080/"
        },
        "id": "G39ZK-mMkojF",
        "outputId": "ed169d95-ab74-4b39-ffad-a5945ca68719"
      },
      "execution_count": 9,
      "outputs": [
        {
          "output_type": "stream",
          "name": "stdout",
          "text": [
            "Accuracy score:  0.9916666666666667\n"
          ]
        }
      ]
    },
    {
      "cell_type": "markdown",
      "source": [
        "# HW 7\n",
        "หา โมเดลที่ดีที่สุด จาก DT,NaiveBayes,KNN,ANN โดย เปรียบเทียบ อย่างละสอง parameter sets"
      ],
      "metadata": {
        "id": "l-Hbr_X3OZng"
      }
    },
    {
      "cell_type": "markdown",
      "source": [
        "## วิธีที่  1"
      ],
      "metadata": {
        "id": "DxmH-qFwUwpH"
      }
    },
    {
      "cell_type": "code",
      "source": [
        "from sklearn.model_selection import train_test_split, cross_val_score\n",
        "from sklearn.tree import DecisionTreeClassifier\n",
        "from sklearn.model_selection import cross_val_score, KFold\n",
        "from sklearn.utils import shuffle\n",
        "from sklearn.model_selection import LeaveOneOut\n",
        "from sklearn.naive_bayes import GaussianNB"
      ],
      "metadata": {
        "id": "f4kfESttPI9o"
      },
      "execution_count": 10,
      "outputs": []
    },
    {
      "cell_type": "code",
      "source": [
        "X_train, X_test, y_train, y_test = train_test_split(digits.data, digits.target, test_size=0.2, random_state=1)"
      ],
      "metadata": {
        "id": "g3r71TXJPMFZ"
      },
      "execution_count": 11,
      "outputs": []
    },
    {
      "cell_type": "code",
      "source": [
        "from sklearn.neighbors import KNeighborsClassifier\n",
        "# (K = 5, weighted)\n",
        "knn_distance = KNeighborsClassifier(n_neighbors=5, weights='distance')\n",
        "scores = cross_val_score(knn_distance, X_train, y_train, cv=10)\n",
        "print('Mean cross-validation score: K5weighted', scores.mean())\n",
        "\n",
        "# (K = 5, No weighted)\n",
        "knn_distance = KNeighborsClassifier(n_neighbors=5, weights='uniform')\n",
        "scores = cross_val_score(knn_distance, X_train, y_train, cv=10)\n",
        "\n",
        "print('Mean cross-validation score: K5Noweighted', scores.mean())\n",
        "#-------------------------------------------------------------------------------------------------\n",
        "from sklearn.tree import DecisionTreeClassifier\n",
        "from sklearn.model_selection import cross_val_score, KFold\n",
        "model = DecisionTreeClassifier(random_state=1) # define model\n",
        "# Define the k-fold cross validation\n",
        "kf = KFold(n_splits=10, shuffle=True, random_state=1)  # k = จำนวนของกลุ่ม // n_splits=10, คือ k = 10  #shuffle=True คือให้มันสลับ  #random_state=42 กำหนดเลขเพื่อให้คำตอบเราเหมือนกับเพื่อน ๆ \n",
        "# Train and evaluate the model using 10-fold cross validation\n",
        "scores = cross_val_score(model, X_train, y_train, cv=kf)  # ทำ cross va (อยากรู้ว่า modelคืออะไร, x  8 คืออะไร , yคืออะไร ,วิธี cross va คืออะไร)\n",
        "# Print the average accuracy and standard deviation across all folds\n",
        "print('Mean cross-validation score: DecisionTree_KFold', scores.mean()) # ผลออกมาจะเป็นความแม่นยำ ของแต่ละ fold แล้วเอามาหา ค่าเฉลี่ย \n",
        "\n",
        "\n",
        "model = DecisionTreeClassifier(criterion = 'entropy' , min_samples_split = 5,random_state=1) # define model\n",
        "# Define the k-fold cross validation\n",
        "kf = KFold(n_splits=10, shuffle=True, random_state=1)  # k = จำนวนของกลุ่ม // n_splits=10, คือ k = 10  #shuffle=True คือให้มันสลับ  #random_state=42 กำหนดเลขเพื่อให้คำตอบเราเหมือนกับเพื่อน ๆ \n",
        "# Train and evaluate the model using 10-fold cross validation\n",
        "scores = cross_val_score(model, X_train, y_train, cv=kf)  # ทำ cross va (อยากรู้ว่า modelคืออะไร, x  8 คืออะไร , yคืออะไร ,วิธี cross va คืออะไร)\n",
        "# Print the average accuracy and standard deviation across all folds\n",
        "print('Mean cross-validation score: DecisionTree_KFold_entropy', scores.mean()) # ผลออกมาจะเป็นความแม่นยำ ของแต่ละ fold แล้วเอามาหา ค่าเฉลี่ย \n",
        "\n",
        "from sklearn.model_selection import cross_val_score,LeaveOneOut\n",
        "model = DecisionTreeClassifier(random_state=1)\n",
        "# Define the k-fold cross validation\n",
        "LOO = LeaveOneOut()\n",
        "# Train and evaluate the model using 10-fold cross validation\n",
        "scores = cross_val_score(model, X_train, y_train, cv=LOO)\n",
        "# Print the average accuracy and standard deviation across all folds\n",
        "print('Mean cross-validation score: DecisionTree_LOO', scores.mean()) # ผลออกมาจะเป็นความแม่นยำ ของแต่ละ fold แล้วเอามาหา ค่าเฉลี่ย \n",
        "\n",
        "# Define model\n",
        "model = DecisionTreeClassifier(criterion = 'entropy' , min_samples_split = 5,random_state=1)\n",
        "# Define the k-fold cross validation\n",
        "LOO = LeaveOneOut()\n",
        "# Train and evaluate the model using 10-fold cross validation\n",
        "scores = cross_val_score(model, X_train, y_train, cv=LOO)\n",
        "# Print the average accuracy and standard deviation across all folds\n",
        "print('Mean cross-validation score: DecisionTree_LOO_entropy', scores.mean()) # ผลออกมาจะเป็นความแม่นยำ ของแต่ละ fold แล้วเอามาหา ค่าเฉลี่ย \n",
        "\n",
        "#------------------------------------------------------------------------------------------------------\n",
        "from sklearn.naive_bayes import GaussianNB\n",
        "# Create a Gaussian Naive Bayes classifier\n",
        "clf = GaussianNB()\n",
        "# Perform 10-fold cross-validation and compute the mean accuracy\n",
        "scores = cross_val_score(clf, X_train, y_train, cv=10)\n",
        "print('Mean cross-validation score: Naive Bayes_var-9', scores.mean())\n",
        "\n",
        "# Create a Gaussian Naive Bayes classifier\n",
        "clf = GaussianNB(var_smoothing = 1e-7)\n",
        "# Perform 10-fold cross-validation and compute the mean accuracy\n",
        "scores = cross_val_score(clf, X_train, y_train, cv=10)\n",
        "print('Mean cross-validation score: Naive Bayes_var-7', scores.mean())\n",
        "\n",
        "#-------------------------------------------------------------------------------------------------------\n",
        "\n",
        "from sklearn.neural_network import MLPClassifier\n",
        "# Create a Multi-layer Perceptron classifier\n",
        "clf = MLPClassifier(hidden_layer_sizes = (10, 10), activation = 'relu',max_iter = 1000, random_state=1)\\\n",
        "# Perform 10-fold cross-validation and compute the mean accuracy\n",
        "scores = cross_val_score(clf, X_train, y_train, cv=10)\n",
        "print('Mean cross-validation score: Multi-layer Perceptron_relu', scores.mean())\n",
        "\n",
        "# Create a Multi-layer Perceptron classifier\n",
        "clf = MLPClassifier(hidden_layer_sizes = (20, 20), activation = 'tanh',max_iter = 1000, random_state=1)\n",
        "# Perform 10-fold cross-validation and compute the mean accuracy\n",
        "scores = cross_val_score(clf, X_train, y_train, cv=10)\n",
        "print('Mean cross-validation score: Multi-layer Perceptron_tanh', scores.mean());"
      ],
      "metadata": {
        "colab": {
          "base_uri": "https://localhost:8080/"
        },
        "id": "M1a9MmVgPDx5",
        "outputId": "b2e14b2e-e58d-4cb2-db63-ef90d49a1fcb"
      },
      "execution_count": 12,
      "outputs": [
        {
          "output_type": "stream",
          "name": "stdout",
          "text": [
            "Mean cross-validation score: K5weighted 0.9840132090132091\n",
            "Mean cross-validation score: K5Noweighted 0.9833139083139084\n",
            "Mean cross-validation score: DecisionTree_KFold 0.8357857420357421\n",
            "Mean cross-validation score: DecisionTree_KFold_entropy 0.8587412587412586\n",
            "Mean cross-validation score: DecisionTree_LOO 0.8580375782881002\n",
            "Mean cross-validation score: DecisionTree_LOO_entropy 0.837160751565762\n",
            "Mean cross-validation score: Naive Bayes_var-9 0.8399184149184149\n",
            "Mean cross-validation score: Naive Bayes_var-7 0.8733294483294483\n",
            "Mean cross-validation score: Multi-layer Perceptron_relu 0.9450417637917636\n",
            "Mean cross-validation score: Multi-layer Perceptron_tanh 0.9464112276612276\n"
          ]
        }
      ]
    },
    {
      "cell_type": "markdown",
      "source": [
        "## วิธีที่ 2"
      ],
      "metadata": {
        "id": "Uhwg00lgU17l"
      }
    },
    {
      "cell_type": "code",
      "source": [
        "from sklearn.datasets import load_digits\n",
        "from sklearn.model_selection import train_test_split\n",
        "from sklearn.tree import DecisionTreeClassifier\n",
        "from sklearn.naive_bayes import GaussianNB\n",
        "from sklearn.neighbors import KNeighborsClassifier\n",
        "from sklearn.neural_network import MLPClassifier\n",
        "from sklearn.model_selection import cross_val_score\n",
        "\n",
        "# Load digits dataset\n",
        "digits = load_digits()\n",
        "\n",
        "# Split data into training and testing sets\n",
        "X_train, X_test, y_train, y_test = train_test_split(digits.data, digits.target, test_size=0.2, random_state=1)\n",
        "\n",
        "# Define parameter sets for each model\n",
        "dt_params_1 = {'random_state': 1}\n",
        "dt_params_2 = {'criterion': 'entropy', 'min_samples_split': 5, 'random_state': 1}\n",
        "nb_params_1 = {}\n",
        "nb_params_2 = {'var_smoothing' : 1e-7}\n",
        "knn_params_1 = {'n_neighbors': 5,'weights':'distance'}\n",
        "knn_params_2 = {'n_neighbors': 3,'weights':'uniform'}\n",
        "ann_params_1 = {'hidden_layer_sizes': (10, 10), 'activation': 'relu', 'max_iter': 1000, 'random_state': 1}\n",
        "ann_params_2 = {'hidden_layer_sizes': (20, 20), 'activation': 'tanh', 'max_iter': 1000, 'random_state': 1}\n",
        "\n",
        "# Train and evaluate models using each parameter set\n",
        "models = [\n",
        "    ('DT1', DecisionTreeClassifier(**dt_params_1)),\n",
        "    ('DT2', DecisionTreeClassifier(**dt_params_2)),\n",
        "    ('NB1', GaussianNB(**nb_params_1)),\n",
        "    ('NB2', GaussianNB(**nb_params_2)),\n",
        "    ('KNN1', KNeighborsClassifier(**knn_params_1)),\n",
        "    ('KNN2', KNeighborsClassifier(**knn_params_2)),\n",
        "    ('ANN1', MLPClassifier(**ann_params_1)),\n",
        "    ('ANN2', MLPClassifier(**ann_params_2))\n",
        "]\n",
        "\n",
        "for name, model in models:\n",
        "    scores = cross_val_score(model, X_train, y_train, cv=10)\n",
        "    print(f'{name} Mean Cross-Validation Score: {scores.mean()}') "
      ],
      "metadata": {
        "colab": {
          "base_uri": "https://localhost:8080/"
        },
        "id": "24BVgttbU9hn",
        "outputId": "2fa87312-3d9b-4b5e-e54b-b4cbbbb4e7e6"
      },
      "execution_count": 13,
      "outputs": [
        {
          "output_type": "stream",
          "name": "stdout",
          "text": [
            "DT1 Mean Cross-Validation Score: 0.8315753690753691\n",
            "DT2 Mean Cross-Validation Score: 0.8483100233100233\n",
            "NB1 Mean Cross-Validation Score: 0.8399184149184149\n",
            "NB2 Mean Cross-Validation Score: 0.8733294483294483\n",
            "KNN1 Mean Cross-Validation Score: 0.9840132090132091\n",
            "KNN2 Mean Cross-Validation Score: 0.9833187645687647\n",
            "ANN1 Mean Cross-Validation Score: 0.9450417637917636\n",
            "ANN2 Mean Cross-Validation Score: 0.9464112276612276\n"
          ]
        }
      ]
    },
    {
      "cell_type": "markdown",
      "source": [
        "## Evaluate with test set "
      ],
      "metadata": {
        "id": "dxpFXmQaUG2g"
      }
    },
    {
      "cell_type": "code",
      "source": [
        "knn_distance = KNeighborsClassifier(n_neighbors=5, weights='distance')\n",
        "knn_distance.fit(X_train,y_train)\n",
        "y_pred = knn_distance.predict(X_test)"
      ],
      "metadata": {
        "id": "JQlY5txIULaa"
      },
      "execution_count": 14,
      "outputs": []
    },
    {
      "cell_type": "code",
      "source": [
        "from sklearn.metrics import accuracy_score\n",
        "# Assume y_true and y_pred are the true and predicted labels, respectively\n",
        "accuracy = accuracy_score(y_test, y_pred)\n",
        "# Print the accuracy score\n",
        "print(\"Accuracy score: \", accuracy)"
      ],
      "metadata": {
        "colab": {
          "base_uri": "https://localhost:8080/"
        },
        "id": "w6SG15JgUerf",
        "outputId": "28edc7f4-3a0d-487f-cb6a-1f6412bc77ff"
      },
      "execution_count": 15,
      "outputs": [
        {
          "output_type": "stream",
          "name": "stdout",
          "text": [
            "Accuracy score:  0.9944444444444445\n"
          ]
        }
      ]
    }
  ]
}